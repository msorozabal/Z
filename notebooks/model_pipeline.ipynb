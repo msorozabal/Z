{
 "cells": [
  {
   "cell_type": "markdown",
   "id": "766cd723",
   "metadata": {},
   "source": [
    "#### Paso 4 (modelo)\n",
    "\n",
    "Presenta el ciclo completo de desarrollo de un modelo predictivo basado en el\n",
    "dataset entregado. Es decir, un notebook o conjunto de scripts donde se observe:\n",
    "- Extracción de datos;\n",
    "- Preparación de datos;\n",
    "- Transformación de datos;\n",
    "- Entrenamiento del modelo;\n",
    "- Predicción/inferencia del modelo;\n",
    "- Cualquier recomendación al equipo de analítica de datos.\n",
    "\n",
    "*Nota:* Se espera un análisis del desempeño (performance) del modelo así como\n",
    "una explicación del proceso de pensamiento durante el proceso."
   ]
  },
  {
   "cell_type": "code",
   "execution_count": 1,
   "id": "b9653a5e",
   "metadata": {},
   "outputs": [],
   "source": [
    "#!pip install tensorflow\n",
    "#!pip install tensorflow_addons\n",
    "#!pip install pydot"
   ]
  },
  {
   "cell_type": "code",
   "execution_count": 2,
   "id": "2f5aec0f",
   "metadata": {},
   "outputs": [
    {
     "name": "stderr",
     "output_type": "stream",
     "text": [
      "2023-02-06 16:04:34.799071: I tensorflow/core/platform/cpu_feature_guard.cc:193] This TensorFlow binary is optimized with oneAPI Deep Neural Network Library (oneDNN) to use the following CPU instructions in performance-critical operations:  AVX2 FMA\n",
      "To enable them in other operations, rebuild TensorFlow with the appropriate compiler flags.\n"
     ]
    }
   ],
   "source": [
    "import datetime\n",
    "import os\n",
    "import numpy as np\n",
    "import pandas as pd\n",
    "\n",
    "import tensorflow as tf\n",
    "import tensorflow.keras as keras\n",
    "from tensorflow.keras.models import Sequential\n",
    "from tensorflow.keras.optimizers import Adam\n",
    "from tensorflow.keras.layers import Activation, Dense, Dropout\n",
    "from tensorflow.keras.callbacks import TensorBoard, EarlyStopping\n",
    "from sklearn.model_selection import train_test_split\n",
    "import matplotlib.pyplot as plt\n",
    "\n",
    "pd.set_option('display.max_rows', 500)\n",
    "\n",
    "import seaborn as sns\n",
    "from sklearn import metrics\n",
    " \n",
    "df = pd.read_csv(\"backend-dev-data-dataset.txt\", sep=\",\", low_memory=False)"
   ]
  },
  {
   "cell_type": "code",
   "execution_count": 3,
   "id": "86a76988",
   "metadata": {},
   "outputs": [
    {
     "name": "stderr",
     "output_type": "stream",
     "text": [
      "/tmp/ipykernel_31040/3496291014.py:5: FutureWarning: The default value of numeric_only in DataFrame.median is deprecated. In a future version, it will default to False. In addition, specifying 'numeric_only=None' is deprecated. Select only valid columns or specify the value of numeric_only to silence this warning.\n",
      "  median = df.median()\n"
     ]
    }
   ],
   "source": [
    "## Reemplazamos los valores nulos con la mediana de la columna antes de partir el dataset\n",
    "\n",
    "df.replace('na', None, inplace=True)\n",
    "\n",
    "median = df.median()\n",
    "df.fillna(median, inplace=True)\n",
    "\n",
    "train, test = train_test_split(df, test_size=0.1, random_state=24)"
   ]
  },
  {
   "cell_type": "code",
   "execution_count": 4,
   "id": "012bd70b",
   "metadata": {},
   "outputs": [],
   "source": [
    "#Selecciono mi variable target {cat_8} y particiono los datos crudos en Train, Test\n",
    "\n",
    "X_train = train.iloc[:, [0,1,2,3,4,5,6,8,9]]\n",
    "y_train = train.iloc[:, 7]\n",
    "\n",
    "X_test = test.iloc[:, [0,1,2,3,4,5,6,8,9]]\n",
    "y_test = test.iloc[:, 7]"
   ]
  },
  {
   "cell_type": "code",
   "execution_count": null,
   "id": "26b1e268",
   "metadata": {},
   "outputs": [],
   "source": []
  },
  {
   "cell_type": "code",
   "execution_count": 5,
   "id": "39a3d91a",
   "metadata": {},
   "outputs": [
    {
     "name": "stdout",
     "output_type": "stream",
     "text": [
      "classes: ['happy', 'sad', 'scared', 'surprised']\n",
      "value counts: \n",
      "0    443663\n",
      "3    387587\n",
      "1     68514\n",
      "2       236\n",
      "Name: cat_8, dtype: int64\n"
     ]
    },
    {
     "data": {
      "image/png": "[encoded data removed]",
      "text/plain": [
       "<Figure size 640x480 with 1 Axes>"
      ]
     },
     "metadata": {},
     "output_type": "display_data"
    }
   ],
   "source": [
    "# Primero trabajamos con el TARGET \n",
    "\n",
    "# Clases unicas\n",
    "\n",
    "classes = np.unique(y_train)\n",
    "nclasses = len(classes)\n",
    "print(f'classes: {list(classes)}')\n",
    "\n",
    "# Generamos un encode para cada una de las clases. \n",
    "\n",
    "for i in range(0,len(classes)):\n",
    "    y_train = y_train.replace(f'{list(classes)[i]}', i)\n",
    "    y_test = y_test.replace(f'{list(classes)[i]}', i)\n",
    "    \n",
    "# Generamos un histograma para entender la distribución de las variables target \n",
    "\n",
    "plt.hist(y_train, bins=np.arange(y_train.min(), y_train.max()+2), density = True)\n",
    "\n",
    "# ver value counts \n",
    "print(f'value counts: \\n{y_train.value_counts()}')"
   ]
  },
  {
   "cell_type": "code",
   "execution_count": 6,
   "id": "1c204bd8",
   "metadata": {},
   "outputs": [
    {
     "data": {
      "text/plain": [
       "{0: 0.5071416818621342,\n",
       " 1: 3.2840003502933706,\n",
       " 2: 953.3898305084746,\n",
       " 3: 0.5805148263486649}"
      ]
     },
     "execution_count": 6,
     "metadata": {},
     "output_type": "execute_result"
    }
   ],
   "source": [
    "# class weights \n",
    "\n",
    "from sklearn.utils import class_weight\n",
    "import numpy as np\n",
    "\n",
    "classes = np.unique(y_train)\n",
    "class_weights_array = class_weight.compute_class_weight('balanced', classes = classes, y = y_train)\n",
    "class_weights = {classes[i]: class_weights_array[i] for i in range(0, len(classes))}\n",
    "class_weights"
   ]
  },
  {
   "cell_type": "code",
   "execution_count": 7,
   "id": "1e601fd4",
   "metadata": {},
   "outputs": [],
   "source": [
    "# onehot encoding target\n",
    "\n",
    "y_train = keras.utils.to_categorical(y_train, nclasses)\n",
    "y_test = keras.utils.to_categorical(y_test, nclasses)"
   ]
  },
  {
   "cell_type": "code",
   "execution_count": null,
   "id": "41307ee1",
   "metadata": {},
   "outputs": [],
   "source": []
  },
  {
   "cell_type": "code",
   "execution_count": 8,
   "id": "fcbb75d1",
   "metadata": {},
   "outputs": [
    {
     "data": {
      "text/html": [
       "<div>\n",
       "<style scoped>\n",
       "    .dataframe tbody tr th:only-of-type {\n",
       "        vertical-align: middle;\n",
       "    }\n",
       "\n",
       "    .dataframe tbody tr th {\n",
       "        vertical-align: top;\n",
       "    }\n",
       "\n",
       "    .dataframe thead th {\n",
       "        text-align: right;\n",
       "    }\n",
       "</style>\n",
       "<table border=\"1\" class=\"dataframe\">\n",
       "  <thead>\n",
       "    <tr style=\"text-align: right;\">\n",
       "      <th></th>\n",
       "      <th>cont_3</th>\n",
       "      <th>cont_4</th>\n",
       "      <th>disc_5</th>\n",
       "      <th>cont_9</th>\n",
       "    </tr>\n",
       "  </thead>\n",
       "  <tbody>\n",
       "    <tr>\n",
       "      <th>count</th>\n",
       "      <td>900000.000</td>\n",
       "      <td>900000.000</td>\n",
       "      <td>900000.000</td>\n",
       "      <td>900000.000</td>\n",
       "    </tr>\n",
       "    <tr>\n",
       "      <th>mean</th>\n",
       "      <td>1650.397</td>\n",
       "      <td>0.045</td>\n",
       "      <td>3.503</td>\n",
       "      <td>0.001</td>\n",
       "    </tr>\n",
       "    <tr>\n",
       "      <th>std</th>\n",
       "      <td>2166.996</td>\n",
       "      <td>99.968</td>\n",
       "      <td>1.707</td>\n",
       "      <td>0.999</td>\n",
       "    </tr>\n",
       "    <tr>\n",
       "      <th>min</th>\n",
       "      <td>7.920</td>\n",
       "      <td>-446.890</td>\n",
       "      <td>1.000</td>\n",
       "      <td>-5.510</td>\n",
       "    </tr>\n",
       "    <tr>\n",
       "      <th>25%</th>\n",
       "      <td>510.240</td>\n",
       "      <td>-67.350</td>\n",
       "      <td>2.000</td>\n",
       "      <td>-0.670</td>\n",
       "    </tr>\n",
       "    <tr>\n",
       "      <th>50%</th>\n",
       "      <td>1000.230</td>\n",
       "      <td>0.120</td>\n",
       "      <td>4.000</td>\n",
       "      <td>0.000</td>\n",
       "    </tr>\n",
       "    <tr>\n",
       "      <th>75%</th>\n",
       "      <td>1965.460</td>\n",
       "      <td>67.350</td>\n",
       "      <td>5.000</td>\n",
       "      <td>0.670</td>\n",
       "    </tr>\n",
       "    <tr>\n",
       "      <th>max</th>\n",
       "      <td>127527.830</td>\n",
       "      <td>514.260</td>\n",
       "      <td>6.000</td>\n",
       "      <td>5.060</td>\n",
       "    </tr>\n",
       "  </tbody>\n",
       "</table>\n",
       "</div>"
      ],
      "text/plain": [
       "          cont_3     cont_4     disc_5     cont_9\n",
       "count 900000.000 900000.000 900000.000 900000.000\n",
       "mean    1650.397      0.045      3.503      0.001\n",
       "std     2166.996     99.968      1.707      0.999\n",
       "min        7.920   -446.890      1.000     -5.510\n",
       "25%      510.240    -67.350      2.000     -0.670\n",
       "50%     1000.230      0.120      4.000      0.000\n",
       "75%     1965.460     67.350      5.000      0.670\n",
       "max   127527.830    514.260      6.000      5.060"
      ]
     },
     "execution_count": 8,
     "metadata": {},
     "output_type": "execute_result"
    }
   ],
   "source": [
    "# EDA: Ahora empezamos a trabajar con X\n",
    "\n",
    "pd.set_option('display.float_format',lambda x:'%.3f'% x) #remove scientific notation\n",
    "\n",
    "X_train.describe()"
   ]
  },
  {
   "cell_type": "code",
   "execution_count": 9,
   "id": "c0bc9bb1",
   "metadata": {},
   "outputs": [
    {
     "data": {
      "text/plain": [
       "<seaborn.axisgrid.FacetGrid at 0x7f667fcdd4e0>"
      ]
     },
     "execution_count": 9,
     "metadata": {},
     "output_type": "execute_result"
    },
    {
     "data": {
      "image/png": "[encoded data removed]",
      "text/plain": [
       "<Figure size 700x500 with 1 Axes>"
      ]
     },
     "metadata": {},
     "output_type": "display_data"
    }
   ],
   "source": [
    "# distribucion \n",
    "sns.displot(\n",
    "  data=X_train,\n",
    "  x=\"cont_3\",\n",
    "  kind=\"hist\",\n",
    "  aspect=1.4,\n",
    "  log_scale=10,\n",
    "  bins=10\n",
    ")"
   ]
  },
  {
   "cell_type": "code",
   "execution_count": null,
   "id": "e70874f2",
   "metadata": {},
   "outputs": [],
   "source": []
  },
  {
   "cell_type": "code",
   "execution_count": 10,
   "id": "5797b90e",
   "metadata": {},
   "outputs": [
    {
     "name": "stderr",
     "output_type": "stream",
     "text": [
      "/tmp/ipykernel_31040/1981264193.py:12: SettingWithCopyWarning: \n",
      "A value is trying to be set on a copy of a slice from a DataFrame.\n",
      "Try using .loc[row_indexer,col_indexer] = value instead\n",
      "\n",
      "See the caveats in the documentation: https://pandas.pydata.org/pandas-docs/stable/user_guide/indexing.html#returning-a-view-versus-a-copy\n",
      "  X_train[numeric_features]  = scaler.transform(X_train[numeric_features])\n",
      "/tmp/ipykernel_31040/1981264193.py:13: SettingWithCopyWarning: \n",
      "A value is trying to be set on a copy of a slice from a DataFrame.\n",
      "Try using .loc[row_indexer,col_indexer] = value instead\n",
      "\n",
      "See the caveats in the documentation: https://pandas.pydata.org/pandas-docs/stable/user_guide/indexing.html#returning-a-view-versus-a-copy\n",
      "  X_test[numeric_features] = scaler.transform(X_test[numeric_features])\n"
     ]
    }
   ],
   "source": [
    "from sklearn.preprocessing import StandardScaler\n",
    "\n",
    "#Normalization \n",
    "\n",
    "numeric_features = X_train.select_dtypes(include=['int64', 'float64']).columns\n",
    "\n",
    "#scaler\n",
    "\n",
    "scaler = StandardScaler()\n",
    "scaler.fit(X_train[numeric_features])\n",
    "\n",
    "X_train[numeric_features]  = scaler.transform(X_train[numeric_features])\n",
    "X_test[numeric_features] = scaler.transform(X_test[numeric_features])"
   ]
  },
  {
   "cell_type": "code",
   "execution_count": 11,
   "id": "0864c2a7",
   "metadata": {},
   "outputs": [],
   "source": [
    "cols_common = [X_train.columns[i] for i in range(len(X_train.columns))]"
   ]
  },
  {
   "cell_type": "code",
   "execution_count": 12,
   "id": "6cba7f87",
   "metadata": {},
   "outputs": [
    {
     "name": "stderr",
     "output_type": "stream",
     "text": [
      "/tmp/ipykernel_31040/2924969725.py:5: FutureWarning: The default value of numeric_only in DataFrame.corr is deprecated. In a future version, it will default to False. Select only valid columns or specify the value of numeric_only to silence this warning.\n",
      "  sns.heatmap(X_train[cols_common].corr().round(3),\n"
     ]
    },
    {
     "data": {
      "image/png": "[encoded data removed]",
      "text/plain": [
       "<Figure size 2500x1000 with 2 Axes>"
      ]
     },
     "metadata": {},
     "output_type": "display_data"
    }
   ],
   "source": [
    "# Feature correlations \n",
    "\n",
    "plt.figure(figsize = (25,10))\n",
    "\n",
    "sns.heatmap(X_train[cols_common].corr().round(3),\n",
    "            vmin = -1,\n",
    "            vmax = 1,\n",
    "            annot = True,\n",
    "            cmap = 'RdBu')\n",
    "\n",
    "plt.savefig(f'correlations.jpg')\n",
    "plt.show()"
   ]
  },
  {
   "cell_type": "code",
   "execution_count": null,
   "id": "029972bf",
   "metadata": {},
   "outputs": [],
   "source": []
  },
  {
   "cell_type": "code",
   "execution_count": 13,
   "id": "b7ea57b3",
   "metadata": {},
   "outputs": [],
   "source": [
    "# Aplicar One-Hot Encoding a las columna 'cat_7' y dropear las de ID + fecha\n",
    "\n",
    "X_train = pd.get_dummies(X_train, columns=['cat_7'])\n",
    "X_train = X_train.drop(columns = ['date_2','key_1'])\n",
    "\n",
    "# Aplicar One-Hot Encoding a las columna 'cat_7' y dropear las de ID + fecha\n",
    "\n",
    "X_test = pd.get_dummies(X_test, columns=['cat_7'])\n",
    "X_test = X_test.drop(columns = ['date_2','key_1'])"
   ]
  },
  {
   "cell_type": "code",
   "execution_count": 14,
   "id": "a3a6eba4",
   "metadata": {},
   "outputs": [
    {
     "name": "stderr",
     "output_type": "stream",
     "text": [
      "2023-02-06 16:05:08.983754: E tensorflow/compiler/xla/stream_executor/cuda/cuda_driver.cc:267] failed call to cuInit: CUDA_ERROR_NO_DEVICE: no CUDA-capable device is detected\n",
      "2023-02-06 16:05:08.983834: I tensorflow/compiler/xla/stream_executor/cuda/cuda_diagnostics.cc:156] kernel driver does not appear to be running on this host (ip-172-16-42-119.us-east-2.compute.internal): /proc/driver/nvidia/version does not exist\n",
      "2023-02-06 16:05:08.985006: I tensorflow/core/platform/cpu_feature_guard.cc:193] This TensorFlow binary is optimized with oneAPI Deep Neural Network Library (oneDNN) to use the following CPU instructions in performance-critical operations:  AVX2 FMA\n",
      "To enable them in other operations, rebuild TensorFlow with the appropriate compiler flags.\n"
     ]
    }
   ],
   "source": [
    "## Construcción de una NN con arquitectura feedforward sencilla \n",
    "\n",
    "input_dim = X_train.shape[1]\n",
    "\n",
    "model = Sequential()\n",
    "model.add(Dense(18, input_shape = (input_dim,), activation='relu'))\n",
    "model.add(Dropout(0.2))\n",
    "model.add(Dense(nclasses, activation='softmax'))"
   ]
  },
  {
   "cell_type": "code",
   "execution_count": 15,
   "id": "561a2032",
   "metadata": {},
   "outputs": [
    {
     "name": "stdout",
     "output_type": "stream",
     "text": [
      "Model: \"sequential\"\n",
      "_________________________________________________________________\n",
      " Layer (type)                Output Shape              Param #   \n",
      "=================================================================\n",
      " dense (Dense)               (None, 18)                198       \n",
      "                                                                 \n",
      " dropout (Dropout)           (None, 18)                0         \n",
      "                                                                 \n",
      " dense_1 (Dense)             (None, 4)                 76        \n",
      "                                                                 \n",
      "=================================================================\n",
      "Total params: 274\n",
      "Trainable params: 274\n",
      "Non-trainable params: 0\n",
      "_________________________________________________________________\n"
     ]
    }
   ],
   "source": [
    "model.summary()"
   ]
  },
  {
   "cell_type": "code",
   "execution_count": 16,
   "id": "30b2315a",
   "metadata": {},
   "outputs": [],
   "source": [
    "#!pip install tensorflow_addons"
   ]
  },
  {
   "cell_type": "code",
   "execution_count": 17,
   "id": "9dced8cd",
   "metadata": {},
   "outputs": [],
   "source": [
    "import tensorflow_addons as tfa\n",
    "\n",
    "#Definición de:\n",
    "# - Hiperparametros de entrenamiento (Learning Rate, Loss Function, Optimizer, Batch Size, Epochs)\n",
    "# - Métrica objetivo\n",
    "\n",
    "learn_rate = .001\n",
    "loss = 'categorical_crossentropy'\n",
    "opt = Adam(learning_rate= learn_rate)\n",
    "\n",
    "model.compile(optimizer= opt,loss = loss, metrics = [tf.metrics.Recall(thresholds=0.2)]) #tfa.metrics.F1Score(4, average='weighted',threshold=0.3)])"
   ]
  },
  {
   "cell_type": "code",
   "execution_count": null,
   "id": "16e562d1",
   "metadata": {},
   "outputs": [],
   "source": []
  },
  {
   "cell_type": "code",
   "execution_count": 18,
   "id": "93b19843",
   "metadata": {},
   "outputs": [
    {
     "name": "stdout",
     "output_type": "stream",
     "text": [
      "Epoch 1/20\n",
      "14063/14063 [==============================] - 30s 2ms/step - loss: 1.5446 - recall: 0.8676 - val_loss: 1.4206 - val_recall: 0.9990\n",
      "Epoch 2/20\n",
      "14063/14063 [==============================] - 128s 9ms/step - loss: 1.4253 - recall: 0.9528 - val_loss: 1.4145 - val_recall: 0.9998\n",
      "Epoch 3/20\n",
      "14063/14063 [==============================] - 152s 11ms/step - loss: 1.4199 - recall: 0.9418 - val_loss: 1.4479 - val_recall: 0.9849\n",
      "Epoch 4/20\n",
      "14063/14063 [==============================] - 28s 2ms/step - loss: 1.4339 - recall: 0.9488 - val_loss: 1.4268 - val_recall: 0.9947\n",
      "Epoch 5/20\n",
      "14063/14063 [==============================] - 215s 15ms/step - loss: 1.4308 - recall: 0.9032 - val_loss: 1.3508 - val_recall: 0.9997\n",
      "Epoch 6/20\n",
      "14063/14063 [==============================] - 67s 5ms/step - loss: 1.4250 - recall: 0.9510 - val_loss: 1.3412 - val_recall: 0.9998\n",
      "Epoch 7/20\n",
      "14063/14063 [==============================] - 63s 4ms/step - loss: 1.4203 - recall: 0.9463 - val_loss: 1.5298 - val_recall: 0.7969\n",
      "Epoch 8/20\n",
      "14063/14063 [==============================] - 219s 16ms/step - loss: 1.4174 - recall: 0.9629 - val_loss: 1.3566 - val_recall: 0.9978\n",
      "Epoch 9/20\n",
      "14063/14063 [==============================] - 29s 2ms/step - loss: 1.4077 - recall: 0.9662 - val_loss: 1.4836 - val_recall: 0.9731\n",
      "Epoch 10/20\n",
      "14063/14063 [==============================] - 158s 11ms/step - loss: 1.4113 - recall: 0.9826 - val_loss: 1.4926 - val_recall: 0.9530\n",
      "Epoch 11/20\n",
      "14063/14063 [==============================] - 125s 9ms/step - loss: 1.4042 - recall: 0.9853 - val_loss: 1.4639 - val_recall: 0.9884\n",
      "Epoch 12/20\n",
      "14063/14063 [==============================] - 31s 2ms/step - loss: 1.4039 - recall: 0.9802 - val_loss: 1.3965 - val_recall: 0.9997\n",
      "Epoch 13/20\n",
      "14063/14063 [==============================] - 255s 18ms/step - loss: 1.4076 - recall: 0.9596 - val_loss: 1.4219 - val_recall: 0.9994\n",
      "Epoch 14/20\n",
      "14063/14063 [==============================] - 30s 2ms/step - loss: 1.4120 - recall: 0.9700 - val_loss: 1.4148 - val_recall: 0.9836\n",
      "Epoch 15/20\n",
      "14063/14063 [==============================] - 113s 8ms/step - loss: 1.3979 - recall: 0.9855 - val_loss: 1.2959 - val_recall: 0.9998\n",
      "Epoch 16/20\n",
      "14063/14063 [==============================] - 165s 12ms/step - loss: 1.3986 - recall: 0.9771 - val_loss: 1.3947 - val_recall: 0.9998\n",
      "Epoch 17/20\n",
      "14063/14063 [==============================] - 29s 2ms/step - loss: 1.4147 - recall: 0.9802 - val_loss: 1.3011 - val_recall: 0.9887\n",
      "Epoch 18/20\n",
      "14063/14063 [==============================] - 213s 15ms/step - loss: 1.4124 - recall: 0.9290 - val_loss: 1.3321 - val_recall: 0.9995\n",
      "Epoch 19/20\n",
      "14063/14063 [==============================] - 70s 5ms/step - loss: 1.4005 - recall: 0.9474 - val_loss: 1.3949 - val_recall: 0.9360\n",
      "Epoch 20/20\n",
      "14063/14063 [==============================] - 33s 2ms/step - loss: 1.4242 - recall: 0.9409 - val_loss: 1.4997 - val_recall: 0.7368\n"
     ]
    }
   ],
   "source": [
    "from keras.callbacks import EarlyStopping\n",
    "\n",
    "early_stopping = EarlyStopping(monitor='val_loss', patience=10)\n",
    "\n",
    "batch_size = 64\n",
    "epochs = 20\n",
    "VERBOSE = 1\n",
    "\n",
    "training_history = model.fit(X_train.astype('float32'),\n",
    "                             y_train,\n",
    "                             validation_data = (X_test.astype('float32'),y_test),\n",
    "                             batch_size = batch_size,\n",
    "                             epochs = epochs,\n",
    "                             callbacks=[early_stopping],\n",
    "                             class_weight = class_weights,\n",
    "                             verbose = VERBOSE)"
   ]
  },
  {
   "cell_type": "code",
   "execution_count": 19,
   "id": "0d0f6f3d",
   "metadata": {},
   "outputs": [
    {
     "name": "stdout",
     "output_type": "stream",
     "text": [
      "3125/3125 [==============================] - 33s 10ms/step\n"
     ]
    }
   ],
   "source": [
    "#Validate with test \n",
    "\n",
    "y_pseudo_probabilities = model.predict(X_test.astype('float32'))\n",
    "y_pred = np.argmax(y_pseudo_probabilities)\n",
    "y_test_max = np.argmax(y_test)\n"
   ]
  },
  {
   "cell_type": "code",
   "execution_count": 20,
   "id": "f36f8b9c",
   "metadata": {},
   "outputs": [],
   "source": [
    "def eval_model(training, model, test_X, test_y, field_name):\n",
    "    \"\"\"\n",
    "    Model evaluation: plots, classification report\n",
    "    @param training: model training history\n",
    "    @param model: trained model\n",
    "    @param test_X: features \n",
    "    @param test_y: labels\n",
    "    @param field_name: label name to display on plots\n",
    "    \"\"\"\n",
    "    ## Trained model analysis and evaluation\n",
    "    f, ax = plt.subplots(2,1, figsize=(5,5))\n",
    "    ax[0].plot(training.history['loss'], label=\"Loss\")\n",
    "    ax[0].plot(training.history['val_loss'], label=\"Validation loss\")\n",
    "    ax[0].set_title('%s: loss' % field_name)\n",
    "    ax[0].set_xlabel('Epoch')\n",
    "    ax[0].set_ylabel('Loss')\n",
    "    ax[0].legend()\n",
    "    \n",
    "    # Recall\n",
    "    ax[1].plot(training.history['recall'], label=\"recall\")\n",
    "    ax[1].plot(training.history['val_recall'], label=\"Validation recall\")\n",
    "    ax[1].set_title('%s: recall' % field_name)\n",
    "    ax[1].set_xlabel('Epoch')\n",
    "    ax[1].set_ylabel('recall')\n",
    "    ax[1].legend()\n",
    "    plt.tight_layout()\n",
    "    plt.show()"
   ]
  },
  {
   "cell_type": "code",
   "execution_count": 21,
   "id": "7aca2c68",
   "metadata": {},
   "outputs": [
    {
     "data": {
      "image/png": "[encoded data removed]",
      "text/plain": [
       "<Figure size 500x500 with 2 Axes>"
      ]
     },
     "metadata": {},
     "output_type": "display_data"
    }
   ],
   "source": [
    "eval_model(training_history, model, y_pred, y_test_max, 'Metrics')"
   ]
  },
  {
   "cell_type": "code",
   "execution_count": 22,
   "id": "7864ec73",
   "metadata": {},
   "outputs": [],
   "source": [
    "# Model evaluation\n",
    "\n",
    "from sklearn.metrics import (confusion_matrix, precision_recall_curve, auc,\n",
    "                             roc_curve, recall_score, classification_report, f1_score,\n",
    "                             precision_recall_fscore_support)"
   ]
  },
  {
   "cell_type": "code",
   "execution_count": 23,
   "id": "ba4814bb",
   "metadata": {},
   "outputs": [
    {
     "name": "stdout",
     "output_type": "stream",
     "text": [
      "Classification report\n",
      "3125/3125 [==============================] - 32s 10ms/step\n",
      "              precision    recall  f1-score   support\n",
      "\n",
      "           0       0.49      0.14      0.22     49277\n",
      "           1       0.08      0.05      0.06      7506\n",
      "           2       0.00      0.65      0.00        31\n",
      "           3       0.43      0.07      0.12     43186\n",
      "\n",
      "    accuracy                           0.11    100000\n",
      "   macro avg       0.25      0.23      0.10    100000\n",
      "weighted avg       0.43      0.11      0.17    100000\n",
      "\n"
     ]
    }
   ],
   "source": [
    "# Print metrics\n",
    "print(\"Classification report\")\n",
    "\n",
    "test_pred = model.predict(X_test.astype('float32'))\n",
    "\n",
    "test_pred = np.argmax(test_pred, axis=1)\n",
    "test_truth = np.argmax(y_test, axis=1)\n",
    "\n",
    "print(metrics.classification_report(test_truth, test_pred))"
   ]
  },
  {
   "cell_type": "code",
   "execution_count": null,
   "id": "5e3dc406",
   "metadata": {},
   "outputs": [],
   "source": []
  },
  {
   "cell_type": "code",
   "execution_count": 24,
   "id": "314b708e",
   "metadata": {},
   "outputs": [],
   "source": [
    "#Tuning Hyperparameters"
   ]
  },
  {
   "cell_type": "code",
   "execution_count": 50,
   "id": "d3dac02d",
   "metadata": {},
   "outputs": [],
   "source": [
    "from keras.wrappers.scikit_learn import KerasClassifier\n",
    "from sklearn.model_selection import GridSearchCV\n",
    "\n",
    "loss = 'categorical_crossentropy'\n",
    "\n",
    "def create_model(optimizer='adam'):\n",
    "\n",
    "    # create model\n",
    "    model = Sequential(name = \"Zenpli\")\n",
    "    model.add(Dense(18, input_shape = (input_dim,), activation='relu'))\n",
    "    model.add(Dropout(0.2))\n",
    "    model.add(Dense(nclasses, activation='softmax'))\n",
    "    \n",
    "    # Compile model\n",
    "    model.compile(loss=loss, optimizer=optimizer, metrics=[tf.metrics.Recall(thresholds=0.2)])\n",
    "    return model"
   ]
  },
  {
   "cell_type": "code",
   "execution_count": 51,
   "id": "c29ae098",
   "metadata": {},
   "outputs": [
    {
     "name": "stderr",
     "output_type": "stream",
     "text": [
      "/tmp/ipykernel_31040/2475390112.py:1: DeprecationWarning: KerasClassifier is deprecated, use Sci-Keras (https://github.com/adriangb/scikeras) instead. See https://www.adriangb.com/scikeras/stable/migration.html for help migrating.\n",
      "  model_grid = KerasClassifier(build_fn=create_model)\n"
     ]
    }
   ],
   "source": [
    "model_grid = KerasClassifier(build_fn=create_model)"
   ]
  },
  {
   "cell_type": "code",
   "execution_count": 52,
   "id": "d1ff9b9a",
   "metadata": {},
   "outputs": [],
   "source": [
    "from sklearn.model_selection import GridSearchCV\n",
    "\n",
    "params = {\n",
    "    'batch_size':  [200],\n",
    "    'epochs': [30],\n",
    "    'optimizer':['adam']\n",
    "}\n",
    "\n",
    "\n",
    "recall_scorer = make_scorer(recall_score, greater_is_better=True)\n",
    "\n",
    "grid = GridSearchCV(model_grid,params, scoring=recall_scorer, cv=5)"
   ]
  },
  {
   "cell_type": "code",
   "execution_count": 53,
   "id": "a2d1e338",
   "metadata": {},
   "outputs": [
    {
     "name": "stdout",
     "output_type": "stream",
     "text": [
      "Epoch 1/30\n",
      "3600/3600 [==============================] - 7s 2ms/step - loss: 0.9309 - recall_1: 0.9211\n",
      "Epoch 2/30\n",
      "3600/3600 [==============================] - 6s 2ms/step - loss: 0.9105 - recall_1: 0.9238\n",
      "Epoch 3/30\n",
      "3600/3600 [==============================] - 6s 2ms/step - loss: 0.9099 - recall_1: 0.9238\n",
      "Epoch 4/30\n",
      "3600/3600 [==============================] - 6s 2ms/step - loss: 0.9097 - recall_1: 0.9238\n",
      "Epoch 5/30\n",
      "3600/3600 [==============================] - 6s 2ms/step - loss: 0.9096 - recall_1: 0.9238\n",
      "Epoch 6/30\n",
      "3600/3600 [==============================] - 6s 2ms/step - loss: 0.9096 - recall_1: 0.9238\n",
      "Epoch 7/30\n",
      "3600/3600 [==============================] - 6s 2ms/step - loss: 0.9095 - recall_1: 0.9238\n",
      "Epoch 8/30\n",
      "3600/3600 [==============================] - 6s 2ms/step - loss: 0.9095 - recall_1: 0.9238\n",
      "Epoch 9/30\n",
      "3600/3600 [==============================] - 6s 2ms/step - loss: 0.9095 - recall_1: 0.9238\n",
      "Epoch 10/30\n",
      "3600/3600 [==============================] - 6s 2ms/step - loss: 0.9095 - recall_1: 0.9238\n",
      "Epoch 11/30\n",
      "3600/3600 [==============================] - 6s 2ms/step - loss: 0.9094 - recall_1: 0.9238\n",
      "Epoch 12/30\n",
      "3600/3600 [==============================] - 6s 2ms/step - loss: 0.9094 - recall_1: 0.9238\n",
      "Epoch 13/30\n",
      "3600/3600 [==============================] - 6s 2ms/step - loss: 0.9095 - recall_1: 0.9238\n",
      "Epoch 14/30\n",
      "3600/3600 [==============================] - 6s 2ms/step - loss: 0.9094 - recall_1: 0.9238\n",
      "Epoch 15/30\n",
      "3600/3600 [==============================] - 6s 2ms/step - loss: 0.9094 - recall_1: 0.9238\n",
      "Epoch 16/30\n",
      "3600/3600 [==============================] - 6s 2ms/step - loss: 0.9094 - recall_1: 0.9238\n",
      "Epoch 17/30\n",
      "3600/3600 [==============================] - 6s 2ms/step - loss: 0.9094 - recall_1: 0.9238\n",
      "Epoch 18/30\n",
      "3600/3600 [==============================] - 6s 2ms/step - loss: 0.9094 - recall_1: 0.9238\n",
      "Epoch 19/30\n",
      "3600/3600 [==============================] - 6s 2ms/step - loss: 0.9094 - recall_1: 0.9238\n",
      "Epoch 20/30\n",
      "3600/3600 [==============================] - 7s 2ms/step - loss: 0.9093 - recall_1: 0.9238\n",
      "Epoch 21/30\n",
      "3600/3600 [==============================] - 6s 2ms/step - loss: 0.9093 - recall_1: 0.9238\n",
      "Epoch 22/30\n",
      "3600/3600 [==============================] - 6s 2ms/step - loss: 0.9093 - recall_1: 0.9238\n",
      "Epoch 23/30\n",
      "3600/3600 [==============================] - 6s 2ms/step - loss: 0.9093 - recall_1: 0.9238\n",
      "Epoch 24/30\n",
      "3600/3600 [==============================] - 6s 2ms/step - loss: 0.9093 - recall_1: 0.9238\n",
      "Epoch 25/30\n",
      "3600/3600 [==============================] - 6s 2ms/step - loss: 0.9093 - recall_1: 0.9238\n",
      "Epoch 26/30\n",
      "3600/3600 [==============================] - 6s 2ms/step - loss: 0.9093 - recall_1: 0.9238\n",
      "Epoch 27/30\n",
      "3600/3600 [==============================] - 6s 2ms/step - loss: 0.9093 - recall_1: 0.9238\n",
      "Epoch 28/30\n",
      "3600/3600 [==============================] - 6s 2ms/step - loss: 0.9093 - recall_1: 0.9238\n",
      "Epoch 29/30\n",
      "3600/3600 [==============================] - 6s 2ms/step - loss: 0.9092 - recall_1: 0.9238\n",
      "Epoch 30/30\n",
      "3600/3600 [==============================] - 6s 2ms/step - loss: 0.9093 - recall_1: 0.9238\n",
      "5625/5625 [==============================] - 6s 1ms/step\n"
     ]
    },
    {
     "name": "stderr",
     "output_type": "stream",
     "text": [
      "/home/ec2-user/anaconda3/envs/python3/lib/python3.10/site-packages/sklearn/model_selection/_validation.py:776: UserWarning: Scoring failed. The score on this train-test partition for these parameters will be set to nan. Details: \n",
      "Traceback (most recent call last):\n",
      "  File \"/home/ec2-user/anaconda3/envs/python3/lib/python3.10/site-packages/sklearn/model_selection/_validation.py\", line 767, in _score\n",
      "    scores = scorer(estimator, X_test, y_test)\n",
      "  File \"/home/ec2-user/anaconda3/envs/python3/lib/python3.10/site-packages/sklearn/metrics/_scorer.py\", line 219, in __call__\n",
      "    return self._score(\n",
      "  File \"/home/ec2-user/anaconda3/envs/python3/lib/python3.10/site-packages/sklearn/metrics/_scorer.py\", line 267, in _score\n",
      "    return self._sign * self._score_func(y_true, y_pred, **self._kwargs)\n",
      "  File \"/home/ec2-user/anaconda3/envs/python3/lib/python3.10/site-packages/sklearn/metrics/_classification.py\", line 1920, in recall_score\n",
      "    _, r, _, _ = precision_recall_fscore_support(\n",
      "  File \"/home/ec2-user/anaconda3/envs/python3/lib/python3.10/site-packages/sklearn/metrics/_classification.py\", line 1563, in precision_recall_fscore_support\n",
      "    labels = _check_set_wise_labels(y_true, y_pred, average, labels, pos_label)\n",
      "  File \"/home/ec2-user/anaconda3/envs/python3/lib/python3.10/site-packages/sklearn/metrics/_classification.py\", line 1364, in _check_set_wise_labels\n",
      "    y_type, y_true, y_pred = _check_targets(y_true, y_pred)\n",
      "  File \"/home/ec2-user/anaconda3/envs/python3/lib/python3.10/site-packages/sklearn/metrics/_classification.py\", line 93, in _check_targets\n",
      "    raise ValueError(\n",
      "ValueError: Classification metrics can't handle a mix of multilabel-indicator and binary targets\n",
      "\n",
      "  warnings.warn(\n"
     ]
    },
    {
     "name": "stdout",
     "output_type": "stream",
     "text": [
      "Epoch 1/30\n",
      "3600/3600 [==============================] - 7s 2ms/step - loss: 0.9894 - recall_2: 0.9036\n",
      "Epoch 2/30\n",
      "3600/3600 [==============================] - 6s 2ms/step - loss: 0.9119 - recall_2: 0.9235\n",
      "Epoch 3/30\n",
      "3600/3600 [==============================] - 6s 2ms/step - loss: 0.9108 - recall_2: 0.9235\n",
      "Epoch 4/30\n",
      "3600/3600 [==============================] - 6s 2ms/step - loss: 0.9104 - recall_2: 0.9235\n",
      "Epoch 5/30\n",
      "3600/3600 [==============================] - 6s 2ms/step - loss: 0.9103 - recall_2: 0.9235\n",
      "Epoch 6/30\n",
      "3600/3600 [==============================] - 6s 2ms/step - loss: 0.9102 - recall_2: 0.9235\n",
      "Epoch 7/30\n",
      "3600/3600 [==============================] - 6s 2ms/step - loss: 0.9102 - recall_2: 0.9235\n",
      "Epoch 8/30\n",
      "3600/3600 [==============================] - 6s 2ms/step - loss: 0.9102 - recall_2: 0.9235\n",
      "Epoch 9/30\n",
      "3600/3600 [==============================] - 6s 2ms/step - loss: 0.9101 - recall_2: 0.9235\n",
      "Epoch 10/30\n",
      "3600/3600 [==============================] - 6s 2ms/step - loss: 0.9101 - recall_2: 0.9235\n",
      "Epoch 11/30\n",
      "3600/3600 [==============================] - 6s 2ms/step - loss: 0.9101 - recall_2: 0.9235\n",
      "Epoch 12/30\n",
      "3600/3600 [==============================] - 6s 2ms/step - loss: 0.9101 - recall_2: 0.9235\n",
      "Epoch 13/30\n",
      "3600/3600 [==============================] - 6s 2ms/step - loss: 0.9101 - recall_2: 0.9235\n",
      "Epoch 14/30\n",
      "3600/3600 [==============================] - 6s 2ms/step - loss: 0.9101 - recall_2: 0.9235\n",
      "Epoch 15/30\n",
      "3600/3600 [==============================] - 7s 2ms/step - loss: 0.9101 - recall_2: 0.9235\n",
      "Epoch 16/30\n",
      "3600/3600 [==============================] - 6s 2ms/step - loss: 0.9101 - recall_2: 0.9235\n",
      "Epoch 17/30\n",
      "3600/3600 [==============================] - 6s 2ms/step - loss: 0.9100 - recall_2: 0.9235\n",
      "Epoch 18/30\n",
      "3600/3600 [==============================] - 6s 2ms/step - loss: 0.9100 - recall_2: 0.9235\n",
      "Epoch 19/30\n",
      "3600/3600 [==============================] - 6s 2ms/step - loss: 0.9100 - recall_2: 0.9235\n",
      "Epoch 20/30\n",
      "3600/3600 [==============================] - 6s 2ms/step - loss: 0.9100 - recall_2: 0.9235\n",
      "Epoch 21/30\n",
      "3600/3600 [==============================] - 6s 2ms/step - loss: 0.9100 - recall_2: 0.9235\n",
      "Epoch 22/30\n",
      "3600/3600 [==============================] - 6s 2ms/step - loss: 0.9100 - recall_2: 0.9235\n",
      "Epoch 23/30\n",
      "3600/3600 [==============================] - 6s 2ms/step - loss: 0.9100 - recall_2: 0.9235\n",
      "Epoch 24/30\n",
      "3600/3600 [==============================] - 6s 2ms/step - loss: 0.9100 - recall_2: 0.9235\n",
      "Epoch 25/30\n",
      "3600/3600 [==============================] - 6s 2ms/step - loss: 0.9099 - recall_2: 0.9235\n",
      "Epoch 26/30\n",
      "3600/3600 [==============================] - 6s 2ms/step - loss: 0.9099 - recall_2: 0.9235\n",
      "Epoch 27/30\n",
      "3600/3600 [==============================] - 6s 2ms/step - loss: 0.9099 - recall_2: 0.9235\n",
      "Epoch 28/30\n",
      "3600/3600 [==============================] - 6s 2ms/step - loss: 0.9099 - recall_2: 0.9235\n",
      "Epoch 29/30\n",
      "3600/3600 [==============================] - 6s 2ms/step - loss: 0.9099 - recall_2: 0.9235\n",
      "Epoch 30/30\n",
      "3600/3600 [==============================] - 6s 2ms/step - loss: 0.9099 - recall_2: 0.9235\n",
      "5625/5625 [==============================] - 7s 1ms/step\n"
     ]
    },
    {
     "name": "stderr",
     "output_type": "stream",
     "text": [
      "/home/ec2-user/anaconda3/envs/python3/lib/python3.10/site-packages/sklearn/model_selection/_validation.py:776: UserWarning: Scoring failed. The score on this train-test partition for these parameters will be set to nan. Details: \n",
      "Traceback (most recent call last):\n",
      "  File \"/home/ec2-user/anaconda3/envs/python3/lib/python3.10/site-packages/sklearn/model_selection/_validation.py\", line 767, in _score\n",
      "    scores = scorer(estimator, X_test, y_test)\n",
      "  File \"/home/ec2-user/anaconda3/envs/python3/lib/python3.10/site-packages/sklearn/metrics/_scorer.py\", line 219, in __call__\n",
      "    return self._score(\n",
      "  File \"/home/ec2-user/anaconda3/envs/python3/lib/python3.10/site-packages/sklearn/metrics/_scorer.py\", line 267, in _score\n",
      "    return self._sign * self._score_func(y_true, y_pred, **self._kwargs)\n",
      "  File \"/home/ec2-user/anaconda3/envs/python3/lib/python3.10/site-packages/sklearn/metrics/_classification.py\", line 1920, in recall_score\n",
      "    _, r, _, _ = precision_recall_fscore_support(\n",
      "  File \"/home/ec2-user/anaconda3/envs/python3/lib/python3.10/site-packages/sklearn/metrics/_classification.py\", line 1563, in precision_recall_fscore_support\n",
      "    labels = _check_set_wise_labels(y_true, y_pred, average, labels, pos_label)\n",
      "  File \"/home/ec2-user/anaconda3/envs/python3/lib/python3.10/site-packages/sklearn/metrics/_classification.py\", line 1364, in _check_set_wise_labels\n",
      "    y_type, y_true, y_pred = _check_targets(y_true, y_pred)\n",
      "  File \"/home/ec2-user/anaconda3/envs/python3/lib/python3.10/site-packages/sklearn/metrics/_classification.py\", line 93, in _check_targets\n",
      "    raise ValueError(\n",
      "ValueError: Classification metrics can't handle a mix of multilabel-indicator and binary targets\n",
      "\n",
      "  warnings.warn(\n"
     ]
    },
    {
     "name": "stdout",
     "output_type": "stream",
     "text": [
      "Epoch 1/30\n",
      "3600/3600 [==============================] - 7s 2ms/step - loss: 0.9348 - recall_3: 0.9169\n",
      "Epoch 2/30\n",
      "3600/3600 [==============================] - 7s 2ms/step - loss: 0.9109 - recall_3: 0.9236\n",
      "Epoch 3/30\n",
      "3600/3600 [==============================] - 6s 2ms/step - loss: 0.9104 - recall_3: 0.9236\n",
      "Epoch 4/30\n",
      "3600/3600 [==============================] - 6s 2ms/step - loss: 0.9102 - recall_3: 0.9236\n",
      "Epoch 5/30\n",
      "3600/3600 [==============================] - 6s 2ms/step - loss: 0.9101 - recall_3: 0.9236\n",
      "Epoch 6/30\n",
      "3600/3600 [==============================] - 6s 2ms/step - loss: 0.9101 - recall_3: 0.9236\n",
      "Epoch 7/30\n",
      "3600/3600 [==============================] - 6s 2ms/step - loss: 0.9100 - recall_3: 0.9236\n",
      "Epoch 8/30\n",
      "3600/3600 [==============================] - 6s 2ms/step - loss: 0.9100 - recall_3: 0.9236\n",
      "Epoch 9/30\n",
      "3600/3600 [==============================] - 6s 2ms/step - loss: 0.9100 - recall_3: 0.9236\n",
      "Epoch 10/30\n",
      "3600/3600 [==============================] - 6s 2ms/step - loss: 0.9099 - recall_3: 0.9236\n",
      "Epoch 11/30\n",
      "3600/3600 [==============================] - 6s 2ms/step - loss: 0.9099 - recall_3: 0.9236\n",
      "Epoch 12/30\n",
      "3600/3600 [==============================] - 7s 2ms/step - loss: 0.9099 - recall_3: 0.9236\n",
      "Epoch 13/30\n",
      "3600/3600 [==============================] - 6s 2ms/step - loss: 0.9099 - recall_3: 0.9236\n",
      "Epoch 14/30\n",
      "3600/3600 [==============================] - 6s 2ms/step - loss: 0.9099 - recall_3: 0.9236\n",
      "Epoch 15/30\n",
      "3600/3600 [==============================] - 6s 2ms/step - loss: 0.9099 - recall_3: 0.9236\n",
      "Epoch 16/30\n",
      "3600/3600 [==============================] - 6s 2ms/step - loss: 0.9099 - recall_3: 0.9236\n",
      "Epoch 17/30\n",
      "3600/3600 [==============================] - 7s 2ms/step - loss: 0.9099 - recall_3: 0.9236\n",
      "Epoch 18/30\n",
      "3600/3600 [==============================] - 6s 2ms/step - loss: 0.9098 - recall_3: 0.9236\n",
      "Epoch 19/30\n",
      "3600/3600 [==============================] - 6s 2ms/step - loss: 0.9098 - recall_3: 0.9236\n",
      "Epoch 20/30\n",
      "3600/3600 [==============================] - 7s 2ms/step - loss: 0.9098 - recall_3: 0.9236\n",
      "Epoch 21/30\n",
      "3600/3600 [==============================] - 7s 2ms/step - loss: 0.9098 - recall_3: 0.9236\n",
      "Epoch 22/30\n",
      "3600/3600 [==============================] - 7s 2ms/step - loss: 0.9098 - recall_3: 0.9236\n",
      "Epoch 23/30\n",
      "3600/3600 [==============================] - 7s 2ms/step - loss: 0.9098 - recall_3: 0.9236\n",
      "Epoch 24/30\n",
      "3600/3600 [==============================] - 7s 2ms/step - loss: 0.9098 - recall_3: 0.9236\n",
      "Epoch 25/30\n",
      "3600/3600 [==============================] - 7s 2ms/step - loss: 0.9098 - recall_3: 0.9236\n",
      "Epoch 26/30\n",
      "3600/3600 [==============================] - 7s 2ms/step - loss: 0.9098 - recall_3: 0.9236\n",
      "Epoch 27/30\n",
      "3600/3600 [==============================] - 7s 2ms/step - loss: 0.9098 - recall_3: 0.9236\n",
      "Epoch 28/30\n",
      "3600/3600 [==============================] - 6s 2ms/step - loss: 0.9097 - recall_3: 0.9236\n",
      "Epoch 29/30\n",
      "3600/3600 [==============================] - 6s 2ms/step - loss: 0.9097 - recall_3: 0.9236\n",
      "Epoch 30/30\n",
      "3600/3600 [==============================] - 7s 2ms/step - loss: 0.9097 - recall_3: 0.9236\n",
      "5625/5625 [==============================] - 7s 1ms/step\n"
     ]
    },
    {
     "name": "stderr",
     "output_type": "stream",
     "text": [
      "/home/ec2-user/anaconda3/envs/python3/lib/python3.10/site-packages/sklearn/model_selection/_validation.py:776: UserWarning: Scoring failed. The score on this train-test partition for these parameters will be set to nan. Details: \n",
      "Traceback (most recent call last):\n",
      "  File \"/home/ec2-user/anaconda3/envs/python3/lib/python3.10/site-packages/sklearn/model_selection/_validation.py\", line 767, in _score\n",
      "    scores = scorer(estimator, X_test, y_test)\n",
      "  File \"/home/ec2-user/anaconda3/envs/python3/lib/python3.10/site-packages/sklearn/metrics/_scorer.py\", line 219, in __call__\n",
      "    return self._score(\n",
      "  File \"/home/ec2-user/anaconda3/envs/python3/lib/python3.10/site-packages/sklearn/metrics/_scorer.py\", line 267, in _score\n",
      "    return self._sign * self._score_func(y_true, y_pred, **self._kwargs)\n",
      "  File \"/home/ec2-user/anaconda3/envs/python3/lib/python3.10/site-packages/sklearn/metrics/_classification.py\", line 1920, in recall_score\n",
      "    _, r, _, _ = precision_recall_fscore_support(\n",
      "  File \"/home/ec2-user/anaconda3/envs/python3/lib/python3.10/site-packages/sklearn/metrics/_classification.py\", line 1563, in precision_recall_fscore_support\n",
      "    labels = _check_set_wise_labels(y_true, y_pred, average, labels, pos_label)\n",
      "  File \"/home/ec2-user/anaconda3/envs/python3/lib/python3.10/site-packages/sklearn/metrics/_classification.py\", line 1364, in _check_set_wise_labels\n",
      "    y_type, y_true, y_pred = _check_targets(y_true, y_pred)\n",
      "  File \"/home/ec2-user/anaconda3/envs/python3/lib/python3.10/site-packages/sklearn/metrics/_classification.py\", line 93, in _check_targets\n",
      "    raise ValueError(\n",
      "ValueError: Classification metrics can't handle a mix of multilabel-indicator and binary targets\n",
      "\n",
      "  warnings.warn(\n"
     ]
    },
    {
     "name": "stdout",
     "output_type": "stream",
     "text": [
      "Epoch 1/30\n",
      "3600/3600 [==============================] - 7s 2ms/step - loss: 0.9562 - recall_4: 0.9077\n",
      "Epoch 2/30\n",
      "3600/3600 [==============================] - 6s 2ms/step - loss: 0.9117 - recall_4: 0.9234\n",
      "Epoch 3/30\n",
      "3600/3600 [==============================] - 6s 2ms/step - loss: 0.9108 - recall_4: 0.9234\n",
      "Epoch 4/30\n",
      "3600/3600 [==============================] - 6s 2ms/step - loss: 0.9106 - recall_4: 0.9234\n",
      "Epoch 5/30\n",
      "3600/3600 [==============================] - 6s 2ms/step - loss: 0.9105 - recall_4: 0.9234\n",
      "Epoch 6/30\n",
      "3600/3600 [==============================] - 6s 2ms/step - loss: 0.9104 - recall_4: 0.9234\n",
      "Epoch 7/30\n",
      "3600/3600 [==============================] - 6s 2ms/step - loss: 0.9104 - recall_4: 0.9234\n",
      "Epoch 8/30\n",
      "3600/3600 [==============================] - 6s 2ms/step - loss: 0.9103 - recall_4: 0.9234\n",
      "Epoch 9/30\n",
      "3600/3600 [==============================] - 6s 2ms/step - loss: 0.9103 - recall_4: 0.9234\n",
      "Epoch 10/30\n",
      "3600/3600 [==============================] - 6s 2ms/step - loss: 0.9103 - recall_4: 0.9234\n",
      "Epoch 11/30\n",
      "3600/3600 [==============================] - 6s 2ms/step - loss: 0.9102 - recall_4: 0.9234\n",
      "Epoch 12/30\n",
      "3600/3600 [==============================] - 6s 2ms/step - loss: 0.9103 - recall_4: 0.9234\n",
      "Epoch 13/30\n",
      "3600/3600 [==============================] - 6s 2ms/step - loss: 0.9102 - recall_4: 0.9234\n",
      "Epoch 14/30\n",
      "3600/3600 [==============================] - 6s 2ms/step - loss: 0.9102 - recall_4: 0.9234\n",
      "Epoch 15/30\n",
      "3600/3600 [==============================] - 6s 2ms/step - loss: 0.9102 - recall_4: 0.9234\n",
      "Epoch 16/30\n",
      "3600/3600 [==============================] - 6s 2ms/step - loss: 0.9102 - recall_4: 0.9234\n",
      "Epoch 17/30\n",
      "3600/3600 [==============================] - 6s 2ms/step - loss: 0.9101 - recall_4: 0.9234\n",
      "Epoch 18/30\n",
      "3600/3600 [==============================] - 6s 2ms/step - loss: 0.9101 - recall_4: 0.9234\n",
      "Epoch 19/30\n",
      "3600/3600 [==============================] - 6s 2ms/step - loss: 0.9101 - recall_4: 0.9234\n",
      "Epoch 20/30\n",
      "3600/3600 [==============================] - 6s 2ms/step - loss: 0.9101 - recall_4: 0.9234\n",
      "Epoch 21/30\n",
      "3600/3600 [==============================] - 6s 2ms/step - loss: 0.9101 - recall_4: 0.9234\n",
      "Epoch 22/30\n",
      "3600/3600 [==============================] - 6s 2ms/step - loss: 0.9101 - recall_4: 0.9234\n",
      "Epoch 23/30\n",
      "3600/3600 [==============================] - 6s 2ms/step - loss: 0.9101 - recall_4: 0.9234\n",
      "Epoch 24/30\n",
      "3600/3600 [==============================] - 6s 2ms/step - loss: 0.9101 - recall_4: 0.9234\n",
      "Epoch 25/30\n",
      "3600/3600 [==============================] - 6s 2ms/step - loss: 0.9101 - recall_4: 0.9234\n",
      "Epoch 26/30\n",
      "3600/3600 [==============================] - 6s 2ms/step - loss: 0.9101 - recall_4: 0.9234\n",
      "Epoch 27/30\n",
      "3600/3600 [==============================] - 7s 2ms/step - loss: 0.9100 - recall_4: 0.9234\n",
      "Epoch 28/30\n",
      "3600/3600 [==============================] - 6s 2ms/step - loss: 0.9100 - recall_4: 0.9234\n",
      "Epoch 29/30\n",
      "3600/3600 [==============================] - 6s 2ms/step - loss: 0.9100 - recall_4: 0.9234\n",
      "Epoch 30/30\n",
      "3600/3600 [==============================] - 6s 2ms/step - loss: 0.9100 - recall_4: 0.9234\n",
      "5625/5625 [==============================] - 7s 1ms/step\n"
     ]
    },
    {
     "name": "stderr",
     "output_type": "stream",
     "text": [
      "/home/ec2-user/anaconda3/envs/python3/lib/python3.10/site-packages/sklearn/model_selection/_validation.py:776: UserWarning: Scoring failed. The score on this train-test partition for these parameters will be set to nan. Details: \n",
      "Traceback (most recent call last):\n",
      "  File \"/home/ec2-user/anaconda3/envs/python3/lib/python3.10/site-packages/sklearn/model_selection/_validation.py\", line 767, in _score\n",
      "    scores = scorer(estimator, X_test, y_test)\n",
      "  File \"/home/ec2-user/anaconda3/envs/python3/lib/python3.10/site-packages/sklearn/metrics/_scorer.py\", line 219, in __call__\n",
      "    return self._score(\n",
      "  File \"/home/ec2-user/anaconda3/envs/python3/lib/python3.10/site-packages/sklearn/metrics/_scorer.py\", line 267, in _score\n",
      "    return self._sign * self._score_func(y_true, y_pred, **self._kwargs)\n",
      "  File \"/home/ec2-user/anaconda3/envs/python3/lib/python3.10/site-packages/sklearn/metrics/_classification.py\", line 1920, in recall_score\n",
      "    _, r, _, _ = precision_recall_fscore_support(\n",
      "  File \"/home/ec2-user/anaconda3/envs/python3/lib/python3.10/site-packages/sklearn/metrics/_classification.py\", line 1563, in precision_recall_fscore_support\n",
      "    labels = _check_set_wise_labels(y_true, y_pred, average, labels, pos_label)\n",
      "  File \"/home/ec2-user/anaconda3/envs/python3/lib/python3.10/site-packages/sklearn/metrics/_classification.py\", line 1364, in _check_set_wise_labels\n",
      "    y_type, y_true, y_pred = _check_targets(y_true, y_pred)\n",
      "  File \"/home/ec2-user/anaconda3/envs/python3/lib/python3.10/site-packages/sklearn/metrics/_classification.py\", line 93, in _check_targets\n",
      "    raise ValueError(\n",
      "ValueError: Classification metrics can't handle a mix of multilabel-indicator and binary targets\n",
      "\n",
      "  warnings.warn(\n"
     ]
    },
    {
     "name": "stdout",
     "output_type": "stream",
     "text": [
      "Epoch 1/30\n",
      "3600/3600 [==============================] - 7s 2ms/step - loss: 0.9368 - recall_5: 0.9157\n",
      "Epoch 2/30\n",
      "3600/3600 [==============================] - 7s 2ms/step - loss: 0.9108 - recall_5: 0.9237\n",
      "Epoch 3/30\n",
      "3600/3600 [==============================] - 7s 2ms/step - loss: 0.9103 - recall_5: 0.9237\n",
      "Epoch 4/30\n",
      "3600/3600 [==============================] - 6s 2ms/step - loss: 0.9100 - recall_5: 0.9237\n",
      "Epoch 5/30\n",
      "3600/3600 [==============================] - 7s 2ms/step - loss: 0.9100 - recall_5: 0.9237\n",
      "Epoch 6/30\n",
      "3600/3600 [==============================] - 7s 2ms/step - loss: 0.9099 - recall_5: 0.9237\n",
      "Epoch 7/30\n",
      "3600/3600 [==============================] - 7s 2ms/step - loss: 0.9098 - recall_5: 0.9237\n",
      "Epoch 8/30\n",
      "3600/3600 [==============================] - 6s 2ms/step - loss: 0.9098 - recall_5: 0.9237\n",
      "Epoch 9/30\n",
      "3600/3600 [==============================] - 7s 2ms/step - loss: 0.9098 - recall_5: 0.9237\n",
      "Epoch 10/30\n",
      "3600/3600 [==============================] - 6s 2ms/step - loss: 0.9098 - recall_5: 0.9237\n",
      "Epoch 11/30\n",
      "3600/3600 [==============================] - 7s 2ms/step - loss: 0.9098 - recall_5: 0.9237\n",
      "Epoch 12/30\n",
      "3600/3600 [==============================] - 6s 2ms/step - loss: 0.9097 - recall_5: 0.9237\n",
      "Epoch 13/30\n",
      "3600/3600 [==============================] - 7s 2ms/step - loss: 0.9098 - recall_5: 0.9237\n",
      "Epoch 14/30\n",
      "3600/3600 [==============================] - 7s 2ms/step - loss: 0.9097 - recall_5: 0.9237\n",
      "Epoch 15/30\n",
      "3600/3600 [==============================] - 6s 2ms/step - loss: 0.9097 - recall_5: 0.9237\n",
      "Epoch 16/30\n",
      "3600/3600 [==============================] - 6s 2ms/step - loss: 0.9097 - recall_5: 0.9237\n",
      "Epoch 17/30\n",
      "3600/3600 [==============================] - 6s 2ms/step - loss: 0.9097 - recall_5: 0.9237\n",
      "Epoch 18/30\n",
      "3600/3600 [==============================] - 6s 2ms/step - loss: 0.9097 - recall_5: 0.9237\n",
      "Epoch 19/30\n",
      "3600/3600 [==============================] - 6s 2ms/step - loss: 0.9097 - recall_5: 0.9237\n",
      "Epoch 20/30\n",
      "3600/3600 [==============================] - 6s 2ms/step - loss: 0.9097 - recall_5: 0.9237\n",
      "Epoch 21/30\n",
      "3600/3600 [==============================] - 6s 2ms/step - loss: 0.9096 - recall_5: 0.9237\n",
      "Epoch 22/30\n",
      "3600/3600 [==============================] - 6s 2ms/step - loss: 0.9097 - recall_5: 0.9237\n",
      "Epoch 23/30\n",
      "3600/3600 [==============================] - 7s 2ms/step - loss: 0.9096 - recall_5: 0.9237\n",
      "Epoch 24/30\n",
      "3600/3600 [==============================] - 6s 2ms/step - loss: 0.9096 - recall_5: 0.9237\n",
      "Epoch 25/30\n",
      "3600/3600 [==============================] - 6s 2ms/step - loss: 0.9096 - recall_5: 0.9237\n",
      "Epoch 26/30\n",
      "3600/3600 [==============================] - 6s 2ms/step - loss: 0.9096 - recall_5: 0.9237\n",
      "Epoch 27/30\n",
      "3600/3600 [==============================] - 6s 2ms/step - loss: 0.9096 - recall_5: 0.9237\n",
      "Epoch 28/30\n",
      "3600/3600 [==============================] - 6s 2ms/step - loss: 0.9096 - recall_5: 0.9237\n",
      "Epoch 29/30\n",
      "3600/3600 [==============================] - 6s 2ms/step - loss: 0.9096 - recall_5: 0.9237\n",
      "Epoch 30/30\n",
      "3600/3600 [==============================] - 6s 2ms/step - loss: 0.9096 - recall_5: 0.9237\n",
      "5625/5625 [==============================] - 7s 1ms/step\n"
     ]
    },
    {
     "name": "stderr",
     "output_type": "stream",
     "text": [
      "/home/ec2-user/anaconda3/envs/python3/lib/python3.10/site-packages/sklearn/model_selection/_validation.py:776: UserWarning: Scoring failed. The score on this train-test partition for these parameters will be set to nan. Details: \n",
      "Traceback (most recent call last):\n",
      "  File \"/home/ec2-user/anaconda3/envs/python3/lib/python3.10/site-packages/sklearn/model_selection/_validation.py\", line 767, in _score\n",
      "    scores = scorer(estimator, X_test, y_test)\n",
      "  File \"/home/ec2-user/anaconda3/envs/python3/lib/python3.10/site-packages/sklearn/metrics/_scorer.py\", line 219, in __call__\n",
      "    return self._score(\n",
      "  File \"/home/ec2-user/anaconda3/envs/python3/lib/python3.10/site-packages/sklearn/metrics/_scorer.py\", line 267, in _score\n",
      "    return self._sign * self._score_func(y_true, y_pred, **self._kwargs)\n",
      "  File \"/home/ec2-user/anaconda3/envs/python3/lib/python3.10/site-packages/sklearn/metrics/_classification.py\", line 1920, in recall_score\n",
      "    _, r, _, _ = precision_recall_fscore_support(\n",
      "  File \"/home/ec2-user/anaconda3/envs/python3/lib/python3.10/site-packages/sklearn/metrics/_classification.py\", line 1563, in precision_recall_fscore_support\n",
      "    labels = _check_set_wise_labels(y_true, y_pred, average, labels, pos_label)\n",
      "  File \"/home/ec2-user/anaconda3/envs/python3/lib/python3.10/site-packages/sklearn/metrics/_classification.py\", line 1364, in _check_set_wise_labels\n",
      "    y_type, y_true, y_pred = _check_targets(y_true, y_pred)\n",
      "  File \"/home/ec2-user/anaconda3/envs/python3/lib/python3.10/site-packages/sklearn/metrics/_classification.py\", line 93, in _check_targets\n",
      "    raise ValueError(\n",
      "ValueError: Classification metrics can't handle a mix of multilabel-indicator and binary targets\n",
      "\n",
      "  warnings.warn(\n",
      "/home/ec2-user/anaconda3/envs/python3/lib/python3.10/site-packages/sklearn/model_selection/_search.py:953: UserWarning: One or more of the test scores are non-finite: [nan]\n",
      "  warnings.warn(\n"
     ]
    },
    {
     "name": "stdout",
     "output_type": "stream",
     "text": [
      "Epoch 1/30\n",
      "4500/4500 [==============================] - 9s 2ms/step - loss: 0.9753 - recall_6: 0.9029\n",
      "Epoch 2/30\n",
      "4500/4500 [==============================] - 8s 2ms/step - loss: 0.9109 - recall_6: 0.9236\n",
      "Epoch 3/30\n",
      "4500/4500 [==============================] - 8s 2ms/step - loss: 0.9103 - recall_6: 0.9236\n",
      "Epoch 4/30\n",
      "4500/4500 [==============================] - 8s 2ms/step - loss: 0.9101 - recall_6: 0.9236\n",
      "Epoch 5/30\n",
      "4500/4500 [==============================] - 8s 2ms/step - loss: 0.9101 - recall_6: 0.9236\n",
      "Epoch 6/30\n",
      "4500/4500 [==============================] - 8s 2ms/step - loss: 0.9100 - recall_6: 0.9236\n",
      "Epoch 7/30\n",
      "4500/4500 [==============================] - 8s 2ms/step - loss: 0.9100 - recall_6: 0.9236\n",
      "Epoch 8/30\n",
      "4500/4500 [==============================] - 8s 2ms/step - loss: 0.9100 - recall_6: 0.9236\n",
      "Epoch 9/30\n",
      "4500/4500 [==============================] - 8s 2ms/step - loss: 0.9099 - recall_6: 0.9236\n",
      "Epoch 10/30\n",
      "4500/4500 [==============================] - 7s 2ms/step - loss: 0.9099 - recall_6: 0.9236\n",
      "Epoch 11/30\n",
      "4500/4500 [==============================] - 7s 2ms/step - loss: 0.9099 - recall_6: 0.9236\n",
      "Epoch 12/30\n",
      "4500/4500 [==============================] - 8s 2ms/step - loss: 0.9099 - recall_6: 0.9236\n",
      "Epoch 13/30\n",
      "4500/4500 [==============================] - 8s 2ms/step - loss: 0.9099 - recall_6: 0.9236\n",
      "Epoch 14/30\n",
      "4500/4500 [==============================] - 8s 2ms/step - loss: 0.9098 - recall_6: 0.9236\n",
      "Epoch 15/30\n",
      "4500/4500 [==============================] - 8s 2ms/step - loss: 0.9098 - recall_6: 0.9236\n",
      "Epoch 16/30\n",
      "4500/4500 [==============================] - 8s 2ms/step - loss: 0.9098 - recall_6: 0.9236\n",
      "Epoch 17/30\n",
      "4500/4500 [==============================] - 8s 2ms/step - loss: 0.9098 - recall_6: 0.9236\n",
      "Epoch 18/30\n",
      "4500/4500 [==============================] - 8s 2ms/step - loss: 0.9098 - recall_6: 0.9236\n",
      "Epoch 19/30\n",
      "4500/4500 [==============================] - 8s 2ms/step - loss: 0.9098 - recall_6: 0.9236\n",
      "Epoch 20/30\n",
      "4500/4500 [==============================] - 8s 2ms/step - loss: 0.9098 - recall_6: 0.9236\n",
      "Epoch 21/30\n",
      "4500/4500 [==============================] - 8s 2ms/step - loss: 0.9098 - recall_6: 0.9236\n",
      "Epoch 22/30\n",
      "4500/4500 [==============================] - 8s 2ms/step - loss: 0.9097 - recall_6: 0.9236\n",
      "Epoch 23/30\n",
      "4500/4500 [==============================] - 8s 2ms/step - loss: 0.9097 - recall_6: 0.9236\n",
      "Epoch 24/30\n",
      "4500/4500 [==============================] - 8s 2ms/step - loss: 0.9097 - recall_6: 0.9236\n",
      "Epoch 25/30\n",
      "4500/4500 [==============================] - 8s 2ms/step - loss: 0.9097 - recall_6: 0.9236\n",
      "Epoch 26/30\n",
      "4500/4500 [==============================] - 8s 2ms/step - loss: 0.9097 - recall_6: 0.9236\n",
      "Epoch 27/30\n",
      "4500/4500 [==============================] - 8s 2ms/step - loss: 0.9097 - recall_6: 0.9236\n",
      "Epoch 28/30\n",
      "4500/4500 [==============================] - 8s 2ms/step - loss: 0.9097 - recall_6: 0.9236\n",
      "Epoch 29/30\n",
      "4500/4500 [==============================] - 7s 2ms/step - loss: 0.9097 - recall_6: 0.9236\n",
      "Epoch 30/30\n",
      "4500/4500 [==============================] - 8s 2ms/step - loss: 0.9097 - recall_6: 0.9236\n"
     ]
    }
   ],
   "source": [
    "model_grid = grid.fit(X_train.astype('float32'),y_train)"
   ]
  },
  {
   "cell_type": "code",
   "execution_count": 54,
   "id": "d623280f",
   "metadata": {},
   "outputs": [
    {
     "data": {
      "text/plain": [
       "{'batch_size': 200, 'epochs': 30, 'optimizer': 'adam'}"
      ]
     },
     "execution_count": 54,
     "metadata": {},
     "output_type": "execute_result"
    }
   ],
   "source": [
    "model_grid.best_params_"
   ]
  },
  {
   "cell_type": "code",
   "execution_count": 55,
   "id": "e503dddc",
   "metadata": {},
   "outputs": [
    {
     "name": "stdout",
     "output_type": "stream",
     "text": [
      "Model: \"Zenpli\"\n",
      "_________________________________________________________________\n",
      " Layer (type)                Output Shape              Param #   \n",
      "=================================================================\n",
      " dense_22 (Dense)            (None, 18)                198       \n",
      "                                                                 \n",
      " dropout_11 (Dropout)        (None, 18)                0         \n",
      "                                                                 \n",
      " dense_23 (Dense)            (None, 4)                 76        \n",
      "                                                                 \n",
      "=================================================================\n",
      "Total params: 274\n",
      "Trainable params: 274\n",
      "Non-trainable params: 0\n",
      "_________________________________________________________________\n"
     ]
    }
   ],
   "source": [
    "model_grid.best_estimator_.model.summary()"
   ]
  },
  {
   "cell_type": "code",
   "execution_count": null,
   "id": "7cdb978c",
   "metadata": {},
   "outputs": [],
   "source": []
  },
  {
   "cell_type": "code",
   "execution_count": null,
   "id": "4e1cac15",
   "metadata": {},
   "outputs": [],
   "source": [
    "#fit with grid params\n",
    "\n",
    "#patience = 5 \n",
    "\n",
    "#training_grid, model_tunned = model_grid.fit(\n",
    "#                X_train.astype('float32'),\n",
    "#                y_train, \n",
    "#                batch_size = batch_size,\n",
    "#                epochs = epochs,\n",
    "#                validation_data_X = X_test.astype('float32'), \n",
    "#                validation_data_y = y_test,                                \n",
    "#                patience = patience,\n",
    "#                class_weights = class_weights\n",
    "#                )"
   ]
  },
  {
   "cell_type": "code",
   "execution_count": 56,
   "id": "7b27674e",
   "metadata": {},
   "outputs": [],
   "source": [
    "from keras.models import load_model\n",
    "\n",
    "model.save('Zenpli_model.h5')  # creates a HDF5 file 'my_model.h5'\n",
    "del model  # deletes the existing model\n",
    "\n",
    "# returns a compiled model\n",
    "# identical to the previous one\n",
    "#model = load_model('my_model.h5')"
   ]
  }
 ],
 "metadata": {
  "kernelspec": {
   "display_name": "conda_python3",
   "language": "python",
   "name": "conda_python3"
  },
  "language_info": {
   "codemirror_mode": {
    "name": "ipython",
    "version": 3
   },
   "file_extension": ".py",
   "mimetype": "text/x-python",
   "name": "python",
   "nbconvert_exporter": "python",
   "pygments_lexer": "ipython3",
   "version": "3.10.6"
  }
 },
 "nbformat": 4,
 "nbformat_minor": 5
}
